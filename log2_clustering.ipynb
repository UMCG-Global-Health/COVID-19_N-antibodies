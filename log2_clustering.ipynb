{
 "cells": [
  {
   "cell_type": "code",
   "execution_count": 1,
   "id": "bf3093d8",
   "metadata": {},
   "outputs": [],
   "source": [
    "#import libraries\n",
    "import pandas as pd\n",
    "import numpy as np\n",
    "import time\n",
    "from tslearn.clustering import TimeSeriesKMeans\n",
    "from tslearn.utils import to_time_series_dataset\n",
    "import random\n",
    "\n",
    "#set seed\n",
    "seed =0"
   ]
  },
  {
   "cell_type": "code",
   "execution_count": 13,
   "id": "8ddb76d6",
   "metadata": {},
   "outputs": [
    {
     "name": "stdout",
     "output_type": "stream",
     "text": [
      "number of samples: 99871\n"
     ]
    },
    {
     "ename": "FileNotFoundError",
     "evalue": "[Errno 2] No such file or directory: '~/N antibodies/code/clustering/data_models/log/ids_n_samples_99871.npy'",
     "output_type": "error",
     "traceback": [
      "\u001b[0;31m---------------------------------------------------------------------------\u001b[0m",
      "\u001b[0;31mFileNotFoundError\u001b[0m                         Traceback (most recent call last)",
      "Input \u001b[0;32mIn [13]\u001b[0m, in \u001b[0;36m<cell line: 5>\u001b[0;34m()\u001b[0m\n\u001b[1;32m      3\u001b[0m n_samples \u001b[38;5;241m=\u001b[39m \u001b[38;5;28mlen\u001b[39m(ids)\n\u001b[1;32m      4\u001b[0m \u001b[38;5;28mprint\u001b[39m(\u001b[38;5;124m\"\u001b[39m\u001b[38;5;124mnumber of samples: \u001b[39m\u001b[38;5;132;01m%d\u001b[39;00m\u001b[38;5;124m\"\u001b[39m \u001b[38;5;241m%\u001b[39mn_samples)\n\u001b[0;32m----> 5\u001b[0m \u001b[43mnp\u001b[49m\u001b[38;5;241;43m.\u001b[39;49m\u001b[43msave\u001b[49m\u001b[43m(\u001b[49m\u001b[38;5;124;43m\"\u001b[39;49m\u001b[38;5;124;43m~/N antibodies/code/clustering/data_models/log/ids_n_samples_\u001b[39;49m\u001b[38;5;132;43;01m%d\u001b[39;49;00m\u001b[38;5;124;43m.npy\u001b[39;49m\u001b[38;5;124;43m\"\u001b[39;49m\u001b[43m \u001b[49m\u001b[38;5;241;43m%\u001b[39;49m\u001b[43m(\u001b[49m\u001b[43mn_samples\u001b[49m\u001b[43m)\u001b[49m\u001b[43m,\u001b[49m\u001b[43mids\u001b[49m\u001b[43m)\u001b[49m\n\u001b[1;32m      6\u001b[0m \u001b[38;5;28;01mfor\u001b[39;00m ID \u001b[38;5;129;01min\u001b[39;00m ids:\n\u001b[1;32m      7\u001b[0m     vals \u001b[38;5;241m=\u001b[39m df\u001b[38;5;241m.\u001b[39mloc[df[\u001b[38;5;124m\"\u001b[39m\u001b[38;5;124mpseudo_id\u001b[39m\u001b[38;5;124m\"\u001b[39m] \u001b[38;5;241m==\u001b[39m ID, \u001b[38;5;124m\"\u001b[39m\u001b[38;5;124massay_mabs_n\u001b[39m\u001b[38;5;124m\"\u001b[39m]\u001b[38;5;241m.\u001b[39mvalues\n",
      "File \u001b[0;32m<__array_function__ internals>:5\u001b[0m, in \u001b[0;36msave\u001b[0;34m(*args, **kwargs)\u001b[0m\n",
      "File \u001b[0;32m/usr/local/lib/python3.8/dist-packages/numpy/lib/npyio.py:525\u001b[0m, in \u001b[0;36msave\u001b[0;34m(file, arr, allow_pickle, fix_imports)\u001b[0m\n\u001b[1;32m    523\u001b[0m     \u001b[38;5;28;01mif\u001b[39;00m \u001b[38;5;129;01mnot\u001b[39;00m file\u001b[38;5;241m.\u001b[39mendswith(\u001b[38;5;124m'\u001b[39m\u001b[38;5;124m.npy\u001b[39m\u001b[38;5;124m'\u001b[39m):\n\u001b[1;32m    524\u001b[0m         file \u001b[38;5;241m=\u001b[39m file \u001b[38;5;241m+\u001b[39m \u001b[38;5;124m'\u001b[39m\u001b[38;5;124m.npy\u001b[39m\u001b[38;5;124m'\u001b[39m\n\u001b[0;32m--> 525\u001b[0m     file_ctx \u001b[38;5;241m=\u001b[39m \u001b[38;5;28;43mopen\u001b[39;49m\u001b[43m(\u001b[49m\u001b[43mfile\u001b[49m\u001b[43m,\u001b[49m\u001b[43m \u001b[49m\u001b[38;5;124;43m\"\u001b[39;49m\u001b[38;5;124;43mwb\u001b[39;49m\u001b[38;5;124;43m\"\u001b[39;49m\u001b[43m)\u001b[49m\n\u001b[1;32m    527\u001b[0m \u001b[38;5;28;01mwith\u001b[39;00m file_ctx \u001b[38;5;28;01mas\u001b[39;00m fid:\n\u001b[1;32m    528\u001b[0m     arr \u001b[38;5;241m=\u001b[39m np\u001b[38;5;241m.\u001b[39masanyarray(arr)\n",
      "\u001b[0;31mFileNotFoundError\u001b[0m: [Errno 2] No such file or directory: '~/N antibodies/code/clustering/data_models/log/ids_n_samples_99871.npy'"
     ]
    }
   ],
   "source": [
    "#log2 transform N-anitbody measurements\n",
    "vals_list = []\n",
    "ids = df.pseudo_id.unique().tolist()\n",
    "print(\"number of samples: %d\" %n_samples)\n",
    "for ID in ids:\n",
    "    vals = df.loc[df[\"pseudo_id\"] == ID, \"assay_mabs_n\"].values\n",
    "    vals_list.append(np.log2(vals))"
   ]
  },
  {
   "cell_type": "code",
   "execution_count": 8,
   "id": "92167000",
   "metadata": {},
   "outputs": [],
   "source": [
    "#transform data set to be suitable for longitudinal K-means\n",
    "df = to_time_series_dataset(vals_list)"
   ]
  },
  {
   "cell_type": "code",
   "execution_count": 9,
   "id": "8007e23b",
   "metadata": {},
   "outputs": [],
   "source": [
    "#clustering function\n",
    "def clustering_kmeans(df, n_clusters):\n",
    "    model = TimeSeriesKMeans(n_clusters= n_clusters, \n",
    "                             metric=\"dtw\", \n",
    "                             max_iter=50, \n",
    "                             n_init=5, \n",
    "                             n_jobs=10, \n",
    "                             random_state=1) \n",
    "    y_pred_kmeans = model.fit_predict(df)\n",
    "    \n",
    "    return y_pred_kmeans, model"
   ]
  },
  {
   "cell_type": "code",
   "execution_count": null,
   "id": "63a8335e",
   "metadata": {},
   "outputs": [],
   "source": [
    "#altogether final steps\n",
    "\n",
    "print(\"Clustering, 13 clusters log2\")\n",
    "print(\"number of samples\", n_samples)\n",
    "\n",
    "start = time.time()\n",
    "    \n",
    "cluster = clustering_kmeans(df = df, n_clusters = 13)\n",
    "\n",
    "end = time.time()\n",
    "\n",
    "print (\"Time elapsed clustering:\", end - start, \"13 clusters\")"
   ]
  }
 ],
 "metadata": {
  "kernelspec": {
   "display_name": "Python 3 (ipykernel)",
   "language": "python",
   "name": "python3"
  },
  "language_info": {
   "codemirror_mode": {
    "name": "ipython",
    "version": 3
   },
   "file_extension": ".py",
   "mimetype": "text/x-python",
   "name": "python",
   "nbconvert_exporter": "python",
   "pygments_lexer": "ipython3",
   "version": "3.10.12"
  }
 },
 "nbformat": 4,
 "nbformat_minor": 5
}

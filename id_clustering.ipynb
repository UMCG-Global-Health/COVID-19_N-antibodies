{
 "cells": [
  {
   "cell_type": "code",
   "execution_count": 2,
   "id": "bf3093d8",
   "metadata": {},
   "outputs": [
    {
     "name": "stderr",
     "output_type": "stream",
     "text": [
      "/home/lesliezwerwer/.local/lib/python3.8/site-packages/tslearn/bases/bases.py:15: UserWarning: h5py not installed, hdf5 features will not be supported.\n",
      "Install h5py to use hdf5 features: http://docs.h5py.org/\n",
      "  warn(h5py_msg)\n"
     ]
    }
   ],
   "source": [
    "#import libraries\n",
    "import pandas as pd\n",
    "import numpy as np\n",
    "import time\n",
    "from tslearn.clustering import TimeSeriesKMeans\n",
    "from tslearn.utils import to_time_series_dataset\n",
    "import random\n",
    "\n",
    "#set seed\n",
    "seed =0"
   ]
  },
  {
   "cell_type": "code",
   "execution_count": 7,
   "id": "8ddb76d6",
   "metadata": {},
   "outputs": [],
   "source": [
    "#create list with N-antibody measurements\n",
    "vals_list = []\n",
    "ids = df.pseudo_id.unique().tolist()\n",
    "n_samples = len(ids)\n",
    "print(\"number of samples: %d\" %n_samples)\n",
    "for ID in ids:\n",
    "    vals = df.loc[df[\"pseudo_id\"] == ID, \"assay_mabs_n\"].values\n",
    "    vals_list.append(vals)"
   ]
  },
  {
   "cell_type": "code",
   "execution_count": 8,
   "id": "92167000",
   "metadata": {},
   "outputs": [],
   "source": [
    "#transform data to be suitable for longitudinal K-means\n",
    "df = to_time_series_dataset(vals_list)"
   ]
  },
  {
   "cell_type": "code",
   "execution_count": 9,
   "id": "8007e23b",
   "metadata": {},
   "outputs": [],
   "source": [
    "#clustering function\n",
    "def clustering_kmeans(df, n_clusters):\n",
    "    model = TimeSeriesKMeans(n_clusters=n_clusters, \n",
    "                             metric=\"dtw\", \n",
    "                             max_iter=50, \n",
    "                             n_init=5, \n",
    "                             n_jobs=10, \n",
    "                             random_state =1) #or softdtw\n",
    "    y_pred_kmeans = model.fit_predict(df)\n",
    "     \n",
    "    return y_pred_kmeans, model"
   ]
  },
  {
   "cell_type": "code",
   "execution_count": null,
   "id": "63a8335e",
   "metadata": {},
   "outputs": [],
   "source": [
    "#altogether final steps\n",
    "\n",
    "start = time.time()\n",
    "print(\"start clustering id, 13 clusters:\")\n",
    "\n",
    "cluster = clustering_kmeans(df = df, n_clusters = 13)\n",
    "    \n",
    "end = time.time()\n",
    "print (\"Time elapsed clustering:\", end - start, \"13 clusters\")"
   ]
  }
 ],
 "metadata": {
  "kernelspec": {
   "display_name": "Python 3 (ipykernel)",
   "language": "python",
   "name": "python3"
  },
  "language_info": {
   "codemirror_mode": {
    "name": "ipython",
    "version": 3
   },
   "file_extension": ".py",
   "mimetype": "text/x-python",
   "name": "python",
   "nbconvert_exporter": "python",
   "pygments_lexer": "ipython3",
   "version": "3.10.12"
  }
 },
 "nbformat": 4,
 "nbformat_minor": 5
}
